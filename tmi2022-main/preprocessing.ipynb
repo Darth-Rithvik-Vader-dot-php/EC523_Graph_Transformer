{
 "cells": [
  {
   "cell_type": "code",
   "execution_count": 18,
   "metadata": {},
   "outputs": [],
   "source": [
    "import os\n",
    "import glob\n",
    "import numpy as np\n",
    "import pandas as pd"
   ]
  },
  {
   "cell_type": "code",
   "execution_count": null,
   "metadata": {},
   "outputs": [],
   "source": [
    "# given a directory path, get the files matching the file type. this is useful for gathering patches, etc.\n",
    "\n",
    "def get_file_names(directory, extension):\n",
    "    os.chdir(directory)\n",
    "    file_names = glob.glob(f'*.{extension}')\n",
    "    return file_names\n",
    "\n",
    "# Use here\n",
    "directory = 'path_to_your_directory'  # directory\n",
    "extension = 'txt'  # file extension\n",
    "file_names = get_file_names(directory, extension)\n",
    "print(file_names)"
   ]
  },
  {
   "cell_type": "code",
   "execution_count": 19,
   "metadata": {},
   "outputs": [
    {
     "name": "stdout",
     "output_type": "stream",
     "text": [
      "['00a26aaa82c959624d90dfb69fcf259c', '00a76bfbec239fd9f465d6581806ff42', '00a7fb880dc12c5de82df39b30533da9', '00a97615a51ba4c475bdec8505623bf9', '00bbc1482301d16de3ff63238cfd0b34', '00c15b23b30a5ba061358d9641118904', '00c46b336b5b06423fcdec1b4d5bee06', '00c52cb4db1c7a5811a8f070a910c038', '00ca0c23961b5510be46c917be11c43e', '00d7ec94436e3a1416a3b302914957d3', '00d8a8c04886379e266406fdeff81c45', '0a0f8e20b1222b69416301444b117678', '0a107c91216d62b2543122a46eb26541', '0a14e008bce3dbcce2470ca1123bd565', '0a336d5bc71e1f83d453297413f11e9b', '0a3bf331f951938b678a1736ea8d8399', '0a4b7a7499ed55c71033cefb0765e93d', '0a5b11fe9c149f5e2e41a5d16dc5f314', '0a5d6a20d1429dd55b94ae1b857ad573', '0a619ab32b0cd639d989cce1e1e17da0', '0a6c5a120961974a7dae8cf11245ff73', '0a6e7a0cfe6a3203b4cb28d6ff6daa6a', '0a75b377181b60efd8278bce0b6260a5', '0a81500dc48b2bb7ee19849502360270', '0a836ea85157d6e0b92371d8ae18a55c', '0a848ccbbb065ef5ee59dd01710f8531', '0a8b2cefacdad96c6005799832055629', '0a8bc9de5acf2d4a667a4528803d1f09', '0a8c2bda6e00a040372185ccd9a3c4ab', '0a90417765296ad56c6c4c401eae71bd', '0a90f3a47f1d9bccee4f6ab1a716839f', '0a93d9a674e358ba32e4e2ec320aefc5', '0a94d55951bd4caebf2712e455decc6e', '0a97bd73cd153b33751d43821ff0a400', '0aa144fb4a6597dd19b3e0de25151e11', '0aa6472328e4807ba54a807b8332da0f', '0ab626bb7e1eb8c7b1eb6ac3fb129349', '0ab859bbba82de5373f3f2fa8e806e2d', '0abc61a1bc7abe47b9e44a9f69979eb0', '0ac4677348cf4fc1ebe354ba1037921c', '0ac7f7d40895378ae07006510aaca8de', '0ace5c189da8f9f9d9cb92e85f142904', '0ad2995378cdc31f88da16d158c77d6e', '0ad349dc15725bebc39d343ef41743aa', '0ad4f3538ae67d99a7dbfcc01b2d2dd8', '0ae4dfa2347160e807c4a4b9bee98f47', '0af9dc7262948b51596d3305675e4a37', '0b0b9e3cb8d9172d8fdf21d096ff93ba', '0b102a47110d5fea1501400cd974f8d2', '0b1775f64d774ab69e50fc0d7a124036', '0b180497f297ce3ae7bba222099115d7', '0b1c63971f6e7515273c95650a2e9063', '0b1d4a81985789feff2fd66bb2d5b760', '0b2c7d97a377d620e70109199bf8eed8', '0b2cba7e97daa7f11ededc2ec7d67045', '0b353bfc9df3fc5534511a8295e40046', '0b373388b189bee3ef6e320b841264dd', '0b48fb4285d6ca230e336ec49d89304a', '0b4b960490879b7588a1d135fcf10fe7', '0b4fba162fc179a4cf63cc986f72ac4c', '0b517956117177d8efec1a7efe60a985', '0b5f952f3a5bf6885d7230acd5cbf720', '0b60ac39ce977146c4bd7978d62bedeb', '0b6a90e1c27bf54488c1f7697c6ce599', '0b6d642c9b160678dcfff095c21ce09f', '0b6e34bf65ee0810c1a4bf702b667c88', '0b73719f81c77051bb4b0ece8647a48e', '0b750909b5179cc92b2082a6c5e7ef72', '0b7e106ad1484a6e887b55b18834b740', '0b80bdc8caa658b5f69606234947b422', '0b90de9a5e884982c165c6f2a46c5762', '0b99475a066e609a5ee19ee84e30e376', '0b9cd3a39dce8aebede8054fdca54ad7', '0ba540dcef7c6a994c4e0634cbff4af2', '0bb6facc3ebad1582fca77968ff757c6', '0bb772b06c9e3cd1914e31b509556ebf', '0bbbb6734f721f4df4d2ba60ade0ed15', '0bc1fdd9a51cf38d3dffac3541189c02', '0bc3b1ea9b5e5af3355cfbd9eb7561a1', '0bc4086b7c5ed0463dde3926f10fc298', '0bce55d17bcc628e62c843a2420e723d', '0bd0a172d1f92a1c8bb43585affe0648', '0bd0dd2e0b715471eab534e1d815ebb2', '0bd231c85b2695e2cf021299e67a6afc', '0bd8e31343eeb3a3d57effeb507c9a91', '0bd941a8340eaec12fd35ffc798599df', '0bdbe5375568e1df2ac1f3aa984081e4', '0be3244ab58beba40b4746250b7c80c0', '0beac47a5319a85fe10af9cc1c114f09', '0bec02fc4922292847f64a9065d7b32d', '0bf296ea0621d5539aa1ca71600e1f09', '0bf60b57d6fbd60feb3923848bdc720a', '0bf8f44d2c53e5bd65599e56113201d8', '0bfcd33173d2b7e6ec7b2fafc20e004a', '0bfcecec15bb9bef0c8e59e2776ee3c7', '0bfe4af623f6be66a82289e411320773', '0c0041c562f7cbcb69a4d195d5a06114', '0c02d3bb3a62519b31c63d0301c6843e', '0c063b8b2ba5bc8f6a77695dab1a8562', '0c086008cc6c8c8da93106b67d336b8f', '0c16dad59425c963a1dba7a84638ece7', '0c184eef4691e624de23e7b3d6a50025', '0c21345669287d5b299ed8d7d0f6e1c2', '0c26185c4a50226bc489999b62860aab', '0c2964f57d972f4cadc28f5cdbe95f48', '0c33f41946ffe30ce79d576e30d7c842', '0c46c60ae2ef49657bc843707162ba6e', '0c4c5c0598098cb221d34dc154cca14f', '0c50e4b8b6e11c3b01c243d9a9e58446', '0c514de56dcdc9d3b7b71173361a5b7b', '0c5170ccdfd5405de0600d2c25850dac', '0c523039461629c0b6ea77d88d412e6c', '0c52d7167d0b75dec868020c35f4873b', '0c563af5c4dbd5855a884441d57c8656', '0c5c2d16c0f2e399b7be641e7e7f66d9', '0c625807666551dc07436779d1969b24', '0c63ad44d6bc717dcf0c965d1284d503', '0c6c14ee4d822472a576f1f6650d79f0', '0c74834f412d04ad87c230fc337d9e80', '0c74f7e82d446bd1cde9628fd6fa94e3', '0c77493e455bd2380f899c278052fb16', '0c77c44639718bde0513e97205b413a0', '0c782b90b01085cd1c390076363c6fe6', '0c7d6e0e07621b5582117e9977327b4c', '0c81adeb18c3a36eebc21d53a2052798', '0c81fb679d464543822f9b5c59aef5a0', '0c841425404c56ae1115867cd37a2bdb', '0c86c8cc04ce1ef02e6f280a932a2624', '0c86d570723c4f38b59a5e9678887eac', '0c884ecf6571905365546a078c02133b', '0c88d7c7033e2048b1068e208b105270', '0c9045b2cc21942d866067874807cad8', '0c9932a7962d6d5a4765b2c9850e9c56', '0ca1096422c8a8ef79428a6d8b2d2268', '0cab431ccdc996b408623172f47fabfc', '0cb2ce337d1a2073f68553d15eacb3a8', '0cb39c742b3ee31e25527b3d31991f09', '0cb3f826fc871be280fd81ddd875b221', '0cbadddd6fd3eca47c33e48752f680cd', '0cbfd6b7a0e0e936db19b032096621ad', '0cc2bae4e8f80349576daadd44897024', '0cc35bc0fe4dd912b20f72d66888fd49', '0cca0b4c31ebd9672ea216b2c6603408', '0cd5be1bd117769faf8325db00c3f5eb', '0cda721ed6ea6bc2826914ddac3cc338', '0ce4ad46cffd5d3be84513fad62dded7', '0cee71ab57422e04f76e09ef2186fcd5', '0cf00319764b0a06dc1b0dbdfe877c45', '0cf88c432c44f7d163afb692e6d1000b', '0d11cd4b1285e9704ecd9fbee3ee8544', '0d19c87a2ac19e41556441cdfafd7234', '0d1e1a99a3ba55fe2d5cf69ba87c9d97', '0d2a6f5c754e82c42ed5f8117d13fa52', '0d3159cd1b2495cc82637ececf63ed41', '0d369ec1d013037dfa409901c96808b5', '0d3a60962ae62416519dd9f4c1f172a0', '0d495f9f23cac774653c41214c574425', '0d66a26a030e95c9de2173b476029b23', '0d6b78c4294517bd27a007b4e41ebd5e', '0d73c6cef9ab76b13f53f6605e8d494e', '0d7666fdc3372c68a080c612081e2b45', '0d78804d555b81c004df3b681b939ff6', '0d88608b8268cef169385e0d7dd43903', '0d9ebaacb0ccda0312b5fca401e699c1', '0da0915a236f2fc98b299d6fdefe7b8b', '0da878110769739fb9439908862be9ba', '0db426156d588a5bb0b6036ac0465be0', '0dccbb58add854759951038d5ee736ab', '0dd642748050ba621498690175a3bcb8', '0df6fef657c83392baa2bc0c89880615', '0dfaba8f37fac34150fb70ca8e425141', '0dfd3861c03378ff72a1d6607ea72829', '0e01dca6be914ca5159e6d6bbd9b9468', '0e16745ebec69d81333b472627815751', '0e187aa3c8dd29c41e92af60d2dfb7e5', '0e1a2cbd009133a20feeb1e4bc5a2227', '0e1bc26d651085dca788335c9f3b8dfc', '0e1d010df72414d8873b594afd64a34b', '0e1f3c283a5756b1372fc67e5230dd35', '0e212c3ff7bf9120a46c2f56b67f7f20', '0e2203e117e27e9728407f102404ac59', '0e305c4d31f47db36c44a1d55d389193', '0e347ad243e4019fad579d3282a730f9', '0e347f2fd5526d221233e35dacb2f79c', '0e37381aa92c289f168388fb6a332b8c', '0e3b9cd71b3f0049db58e845a781c228', '0e46418f938971abebfda741d6840e9b', '0e492e8df48427de3324676b8df25fd0', '0e4e6e275dbdf6742d98d5f853b2eaf1', '0e4e894993e03ea910ecfb8bcdbc4baf', '0e50d62c5d764fabebe2a05877bbdef6', '0e5806abc1cf909123d584e504dd9bf9', '0e5ede875ccdf25c8f1cb9b26fb64dc7', '0e62a4cba998a03d20295e07ebc30958', '0e65f90aa2b3fd3e49982839aa381583', '0e6670ba0c2f6a57e6af57d1a5def196', '0e6ba66e0b6faf748d29425b8fef9d79', '0e8b496c4be0464a4808bbbe846334a9', '0e9219ba3378fbf1de1743a53f3a0c18', '0e96f3cc7cdc244d53d817842d78b703', 'tmi2022']\n",
      "201\n"
     ]
    }
   ],
   "source": [
    "## given a directory folder, returns the sub-folder names. This is useful when trying to \n",
    "# gather the WSI files stored in folders under the WSI ids\n",
    "# We can use these folder names to construct our datasets\n",
    "\n",
    "def get_folder_names(directory):\n",
    "    return [d for d in os.listdir(directory) if os.path.isdir(os.path.join(directory, d))]\n",
    "\n",
    "# use here\n",
    "directory = 'insert_path_to_directory_for_WSI_files (to get file names)'\n",
    "folder_names = get_folder_names(directory)\n",
    "print(folder_names)\n",
    "print(len(folder_names))"
   ]
  },
  {
   "cell_type": "code",
   "execution_count": null,
   "metadata": {},
   "outputs": [],
   "source": [
    "# to split the data and return .txt files. These files can be used in \n",
    "# conjunction with the master csv file to create the data .txt files \n",
    "# in the correct delimited structure\n",
    "\n",
    "def split_dataset(file_names, train_ratio=0.7, val_ratio=0.15, test_ratio=0.15):\n",
    "    # error check\n",
    "    assert train_ratio + val_ratio + test_ratio == 1, \"Ratios must sum to 1\"\n",
    "\n",
    "    # randomize\n",
    "    np.random.shuffle(file_names)\n",
    "\n",
    "    # calcuate subset sizes\n",
    "    total_files = len(file_names)\n",
    "    train_size = int(total_files * train_ratio)\n",
    "    val_size = int(total_files * val_ratio)\n",
    "\n",
    "    # set the files\n",
    "    train_files = file_names[:train_size]\n",
    "    val_files = file_names[train_size:train_size+val_size]\n",
    "    test_files = file_names[train_size+val_size:]\n",
    "\n",
    "    return train_files, val_files, test_files\n",
    "\n",
    "def write_to_file(file_names, file_path):\n",
    "    with open(file_path, 'w') as f:\n",
    "        for file_name in file_names:\n",
    "            f.write(file_name + '\\n')\n",
    "\n",
    "\n",
    "# Split the dataset using file or folder names (wherever the names that correspond with the sample ids)\n",
    "train_files, val_files, test_files = split_dataset(folder_names) # file_names)\n",
    "\n",
    "# Write names to data set files\n",
    "write_to_file(train_files, 'train.txt') # trainig dataset, line by line file\n",
    "write_to_file(val_files, 'val.txt') # validatoin dataset\n",
    "write_to_file(test_files, 'test.txt') # testing dataset"
   ]
  },
  {
   "cell_type": "code",
   "execution_count": 15,
   "metadata": {},
   "outputs": [],
   "source": [
    "# this takes the subset csv files, the identified sample txt files, and returns a csv file with the appropriate filtered info\n",
    "def filter_csv_by_txt(csv_file, txt_file, output_csv_file, key_column):\n",
    "    # read csv file\n",
    "    df = pd.read_csv(csv_file)\n",
    "\n",
    "    # read txt file\n",
    "    with open(txt_file, 'r') as f:\n",
    "        keys = f.read().splitlines()\n",
    "\n",
    "    # filter dataframe using keys\n",
    "    df_filtered = df[df[key_column].isin(keys)]\n",
    "\n",
    "    # write dataframe to csv\n",
    "    df_filtered.to_csv(output_csv_file, index=False)\n",
    "\n",
    "# Usage\n",
    "train_set = False\n",
    "val_set = False\n",
    "test_set = True\n",
    "#filter_csv_by_txt('path_to_your_csv_file', 'path_to_your_txt_file', 'path_to_output_csv_file', 'name_of_key_column')\n",
    "if train_set:\n",
    "    filter_csv_by_txt('../train_data/train.csv', '../tmi2022/train_set.txt', '../tmi2022/data/our_project.csv', 'image_id')\n",
    "if val_set:\n",
    "    filter_csv_by_txt('../train_data/train.csv', '../tmi2022/val_set.txt', '../tmi2022/data/our_project_val.csv', 'image_id')\n",
    "if test_set:\n",
    "    filter_csv_by_txt('../train_data/train.csv', '../tmi2022/test_set.txt', '../tmi2022/data/our_project_test.csv', 'image_id')\n"
   ]
  },
  {
   "cell_type": "code",
   "execution_count": 16,
   "metadata": {},
   "outputs": [],
   "source": [
    "def csv_to_txt(csv_file, txt_file, col1, col2, term):\n",
    "    # Read csv file\n",
    "    df = pd.read_csv(csv_file)\n",
    "\n",
    "    # Add 'term-' to the beginning of the first column elements\n",
    "    df[col1] = str(term) + df[col1].astype(str)\n",
    "\n",
    "    # Check if the value in the second column is greater than zero and update that value to 1 \n",
    "    # this is modifying our class labels (contracting from 6 labeles to 3)\n",
    "    df[col2] = df[col2].apply(lambda x: 2 if x > 1 else x)\n",
    "\n",
    "    # Replace the integer values in the second column with string terms\n",
    "    df[col2] = df[col2].replace({0: 'normal', 1: 'mild', 2: 'severe'})\n",
    "\n",
    "    # Select columns and export them to .txt file with delimitor of tab\n",
    "    df[[col1, col2]].to_csv(txt_file, sep='\\t', index=False, header=False)\n",
    "\n",
    "train_set = False\n",
    "val_set = False\n",
    "test_set = True\n",
    "\n",
    "#csv_to_txt('path_to_your_csv_file', 'path_to_output_txt_file', 'name_of_first_column', 'name_of_second_column')\n",
    "if train_set:\n",
    "    csv_to_txt('../tmi2022/data/our_project.csv', '../tmi2022/data/our_project_mod_3.txt', 'image_id', 'isup_grade', 'THREE-')\n",
    "if val_set:\n",
    "    csv_to_txt('../tmi2022/data/our_project_val.csv', '../tmi2022/data/our_project_mod_3_val.txt', 'image_id', 'isup_grade', 'THREE-')\n",
    "if test_set:\n",
    "    csv_to_txt('../tmi2022/data/our_project_test.csv', '../tmi2022/data/our_project_mod_3_test.txt', 'image_id', 'isup_grade', 'THREE-')\n"
   ]
  },
  {
   "cell_type": "code",
   "execution_count": null,
   "metadata": {},
   "outputs": [],
   "source": [
    "# Visualize Quick Aid\n",
    "import torch\n",
    "\n",
    "model = torch.load('path')\n",
    "print(model)"
   ]
  }
 ],
 "metadata": {
  "kernelspec": {
   "display_name": "Python 3",
   "language": "python",
   "name": "python3"
  },
  "language_info": {
   "codemirror_mode": {
    "name": "ipython",
    "version": 3
   },
   "file_extension": ".py",
   "mimetype": "text/x-python",
   "name": "python",
   "nbconvert_exporter": "python",
   "pygments_lexer": "ipython3",
   "version": "3.10.8"
  }
 },
 "nbformat": 4,
 "nbformat_minor": 2
}
